{
 "cells": [
  {
   "cell_type": "code",
   "execution_count": 1,
   "metadata": {},
   "outputs": [],
   "source": [
    "import sys\n",
    "from os.path import abspath, dirname\n",
    "sys.path.append(abspath(dirname('qcc.ipynb')))\n",
    "from module import mod2\n",
    "mod2 = mod2()"
   ]
  },
  {
   "cell_type": "code",
   "execution_count": 2,
   "metadata": {},
   "outputs": [
    {
     "name": "stdout",
     "output_type": "stream",
     "text": [
      "(36, 72) (36, 72)\n",
      "(array([], dtype=int64), array([], dtype=int64))\n"
     ]
    }
   ],
   "source": [
    "import numpy as np\n",
    "from numpy.linalg import matrix_power\n",
    "\n",
    "def s_matrix(dim):\n",
    "    matrix = np.eye(dim)\n",
    "    matrix = np.concatenate((matrix[:, -1:], matrix[:, :-1]), axis=1)\n",
    "    return matrix\n",
    "\n",
    "def x_matrix(l, m):\n",
    "    return np.kron(s_matrix(l), np.eye(m))\n",
    "\n",
    "def y_matrix(l, m):\n",
    "    return np.kron(np.eye(l), s_matrix(m))\n",
    "\n",
    "class QuasiCyclicCode:\n",
    "    def __init__(self, l, m, polynomial_a, polynomial_b) -> None:\n",
    "        assert len(polynomial_a) == len(polynomial_b) == 3\n",
    "        self.a_matrices = [\n",
    "            matrix_power(m_function(l, m), poly) % 2\n",
    "            for m_function, poly in zip([x_matrix, y_matrix, y_matrix], polynomial_a)\n",
    "        ]\n",
    "        self.a_matrix = sum(self.a_matrices) % 2\n",
    "        self.b_matrices = [\n",
    "            matrix_power(m_function(l, m), poly) % 2\n",
    "            for m_function, poly in zip([y_matrix, x_matrix, x_matrix], polynomial_b)\n",
    "        ]\n",
    "        self.b_matrix = sum(self.b_matrices) % 2\n",
    "        self.hx = np.concatenate([self.a_matrix, self.b_matrix], axis=1)\n",
    "        self.hz = np.concatenate([self.b_matrix.T, self.a_matrix.T], axis=1)\n",
    "        pass\n",
    "\n",
    "qcc = QuasiCyclicCode(6, 6, [3, 1, 2], [3, 1, 2])\n",
    "print(qcc.hx.shape, qcc.hz.shape)\n",
    "print(((qcc.hx @ qcc.hz.T) % 2).nonzero())\n",
    "hax = np.concatenate([sum(qcc.a_matrices[1:]) % 2, qcc.b_matrices[2]], axis=1)\n",
    "hbx = np.concatenate([qcc.a_matrices[0], sum(qcc.b_matrices[:2]) % 2], axis=1)\n",
    "haz = np.concatenate([qcc.b_matrices[2].T, sum(qcc.a_matrices[1:]).T % 2], axis=1)\n",
    "hbz = np.concatenate([sum(qcc.b_matrices[:2]).T % 2, qcc.a_matrices[0].T], axis=1)\n",
    "# assert np.allclose((hax + hbx) % 2, qcc.hx)\n",
    "# print(hax.sum(1), haz.sum(1), (hax + haz).sum(0))\n",
    "# print(hbx.sum(1), hbz.sum(1), (hbx + hbz).sum(0))"
   ]
  },
  {
   "cell_type": "code",
   "execution_count": 7,
   "metadata": {},
   "outputs": [
    {
     "name": "stdout",
     "output_type": "stream",
     "text": [
      "30\n",
      "30\n",
      "torch.Size([30, 72])\n",
      "torch.Size([30, 72])\n"
     ]
    }
   ],
   "source": [
    "import torch\n",
    "hx, hz = torch.from_numpy(qcc.hx), torch.from_numpy(qcc.hz)\n",
    "print(mod2.rank(hx))\n",
    "print(mod2.rank(hz))\n",
    "\n",
    "a = mod2.indep(hx)\n",
    "print(a.shape)\n",
    "b = mod2.indep(hz)\n",
    "print(b.shape)\n",
    "# c = torch.zeros_like(a)\n",
    "# PCM = torch.vstack(torch.hstack([a, c]), torch.hstack([c, b]))\n",
    "# print(PCM.size())\n"
   ]
  }
 ],
 "metadata": {
  "kernelspec": {
   "display_name": "base",
   "language": "python",
   "name": "python3"
  },
  "language_info": {
   "codemirror_mode": {
    "name": "ipython",
    "version": 3
   },
   "file_extension": ".py",
   "mimetype": "text/x-python",
   "name": "python",
   "nbconvert_exporter": "python",
   "pygments_lexer": "ipython3",
   "version": "3.8.5"
  }
 },
 "nbformat": 4,
 "nbformat_minor": 2
}
